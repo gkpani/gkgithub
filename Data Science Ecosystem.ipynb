{
 "cells": [
  {
   "cell_type": "markdown",
   "id": "d6754f74-b524-4b04-b2dc-ce277543e7f6",
   "metadata": {},
   "source": [
    "# Data Science Ecosystem"
   ]
  },
  {
   "cell_type": "markdown",
   "id": "63cb7fb2-f370-44d6-a1c1-6dcc44362103",
   "metadata": {},
   "source": [
    "# Data Science Tools and Ecosystem"
   ]
  },
  {
   "cell_type": "markdown",
   "id": "c6d42915-3c9f-4d3f-b347-3e498da79768",
   "metadata": {},
   "source": [
    "# In this Notebook, Data Science Tools and Ecosystem are Summarised"
   ]
  },
  {
   "cell_type": "markdown",
   "id": "feeaca5e-039c-4880-943d-070b330b6d20",
   "metadata": {},
   "source": [
    "# Some of the Popular Languages that Data Scientists use are:\n",
    "1. Python\n",
    "2. R\n",
    "3. SQL"
   ]
  },
  {
   "cell_type": "markdown",
   "id": "8dcb442b-ec2d-4136-bc24-3eb610226b8e",
   "metadata": {},
   "source": [
    "# Some of the Commonly used libraries used by data scientists include:\n",
    "1. Pandas\n",
    "2. Numpy\n",
    "3. Matplotlib"
   ]
  },
  {
   "cell_type": "markdown",
   "id": "b81dcfa0-f353-4318-b749-cd136af98d35",
   "metadata": {},
   "source": [
    "# Some of the Data Science Tools are given in the Table below:\n",
    "|Data Science Tools|\n",
    "|-----------|\n",
    "|Jupyter IDE|\n",
    "|R Studio|\n",
    "|Microsoft Virtual Studio|"
   ]
  },
  {
   "cell_type": "markdown",
   "id": "230202da-40ed-4046-93cc-f0e027f2b952",
   "metadata": {},
   "source": [
    "# Below are a few examples of evaluating arithmetic expressions in Python:\n",
    "## Adding two numbers: 5+6\n",
    "## Multiplying two numbers: 7*9\n",
    "## Print the value of arithmetic expression: print(8+12)"
   ]
  },
  {
   "cell_type": "code",
   "execution_count": 9,
   "id": "525a4d67-4571-4406-ba5b-5178ce8aea7b",
   "metadata": {},
   "outputs": [
    {
     "name": "stdout",
     "output_type": "stream",
     "text": [
      "This is a simple arithmetic expression to multiply and then add integers i.e. (3*4)+5 = ,(100*8)+200 = \n",
      "17\n",
      "1000\n"
     ]
    }
   ],
   "source": [
    "print(\"This is a simple arithmetic expression to multiply and then add integers i.e. (3*4)+5 = ,(100*8)+200 = \")\n",
    "print((3*4)+5)\n",
    "a=(100*8)+200\n",
    "print(a)"
   ]
  },
  {
   "cell_type": "code",
   "execution_count": 11,
   "id": "fe80683b-6b2c-4be8-a0cb-e64c77746915",
   "metadata": {},
   "outputs": [
    {
     "name": "stdout",
     "output_type": "stream",
     "text": [
      "This expression will convert 200 minutes to Hours by dividing by 60. i.e. 200/60\n",
      "200 minutes in Hours is =  3.3333333333333335\n"
     ]
    }
   ],
   "source": [
    "print(\"This expression will convert 200 minutes to Hours by dividing by 60. i.e. 200/60\")\n",
    "hrs=200/60\n",
    "print(\"200 minutes in Hours is = \" , hrs)"
   ]
  },
  {
   "cell_type": "markdown",
   "id": "ca29126f-81ff-4a61-afbf-dd8dabd16399",
   "metadata": {},
   "source": [
    "# **Objectives:Text in Bold Fonts**\n",
    "## **Branching and merging include:**\n",
    "* **Create a branch**\n",
    "* **Commit changes to a child branch**\n",
    "* **Open a pull request**\n",
    "* **Merge a pull request into the main branch**"
   ]
  },
  {
   "cell_type": "markdown",
   "id": "e91d46c3-8704-4671-be24-70efa33213d6",
   "metadata": {},
   "source": [
    "## Author of this Notebook is:\n",
    "# Gadadhar Kandhapani"
   ]
  },
  {
   "cell_type": "code",
   "execution_count": null,
   "id": "78ed2360-f855-4550-97f3-0d1d57453259",
   "metadata": {},
   "outputs": [],
   "source": []
  }
 ],
 "metadata": {
  "kernelspec": {
   "display_name": "Python 3 (ipykernel)",
   "language": "python",
   "name": "python3"
  },
  "language_info": {
   "codemirror_mode": {
    "name": "ipython",
    "version": 3
   },
   "file_extension": ".py",
   "mimetype": "text/x-python",
   "name": "python",
   "nbconvert_exporter": "python",
   "pygments_lexer": "ipython3",
   "version": "3.12.4"
  }
 },
 "nbformat": 4,
 "nbformat_minor": 5
}
